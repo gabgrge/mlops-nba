{
 "cells": [
  {
   "cell_type": "markdown",
   "metadata": {},
   "source": [
    "\n",
    "## Introduction\n",
    "\n",
    "In this analysis, we will be calculating the young stars who have the best potential. We will use current data to define the age of a young player, their efficiency based on others, and other criteria. Our goal is to identify the players with the highest potential and analyze their performance in various aspects.\n",
    "\n",
    "Let's get started!\n",
    "\n",
    "\n",
    "Source:   \n",
    "This work was highly inspired by this work: https://www.kaggle.com/code/vivovinco/nba-rising-stars-2022-2023"
   ]
  },
  {
   "cell_type": "code",
   "execution_count": 1,
   "metadata": {
    "ExecuteTime": {
     "end_time": "2024-02-03T12:24:45.025679Z",
     "start_time": "2024-02-03T12:24:45.022955Z"
    }
   },
   "outputs": [],
   "source": [
    "import pandas as pd\n",
    "import numpy as np\n",
    "from pathlib import Path\n",
    "\n",
    "import seaborn as sns\n",
    "import matplotlib.pyplot as plt\n",
    "import re"
   ]
  },
  {
   "cell_type": "code",
   "outputs": [],
   "source": [
    "def create_nba_features(players: pd.DataFrame) -> pd.DataFrame:\n",
    "    \"\"\"Create features from raw data.\"\"\"\n",
    "    players[\"EFF\"] = (\n",
    "        players.PTS\n",
    "        + players.TRB\n",
    "        + players.AST\n",
    "        + players.STL\n",
    "        + players.BLK\n",
    "        - (players.FGA - players.FG)\n",
    "        - (players.FTA - players.FT)\n",
    "        - players.TOV\n",
    "    )\n",
    "\n",
    "    players['TS%'] = np.where(\n",
    "        (2 * (players['FGA'] + 0.44 * players['FTA'])) != 0,\n",
    "        players['PTS'] / (2 * (players['FGA'] + 0.44 * players['FTA'])),\n",
    "        0\n",
    "    )\n",
    "\n",
    "    players[\"position\"] = players.Pos.map(\n",
    "        {\"PG\": \"Backcourt\", \"SG\": \"Backcourt\", \"SF\": \"Wing\", \"SF-PF\": \"Wing\", \"PF\": \"Big\", \"C\": \"Big\", }\n",
    "    )\n",
    "\n",
    "    return players\n",
    "\n",
    "\n",
    "def stars_definition(row: pd.Series, EFFICENCY_THRESHOLD: int = 12, POINTS_THRESHOLD: int = 10, AGE_THRESHOLD: int = 23) -> bool:\n",
    "    \"\"\"Define rising stars.\"\"\"\n",
    "    return (\n",
    "        row[\"EFF\"] >= EFFICENCY_THRESHOLD\n",
    "        and row[\"PTS\"] >= POINTS_THRESHOLD\n",
    "        and row[\"Age\"] <= AGE_THRESHOLD\n",
    "    )"
   ],
   "metadata": {
    "collapsed": false,
    "ExecuteTime": {
     "end_time": "2024-02-03T12:24:50.771884Z",
     "start_time": "2024-02-03T12:24:50.767680Z"
    }
   },
   "execution_count": 2
  },
  {
   "cell_type": "code",
   "execution_count": 3,
   "metadata": {
    "ExecuteTime": {
     "end_time": "2024-02-03T12:24:52.082040Z",
     "start_time": "2024-02-03T12:24:52.077416Z"
    }
   },
   "outputs": [],
   "source": [
    "RAW_DATA_DIR = Path('..') / \"data\" / \"raw\"\n",
    "CURATED_DATA_DIR = Path('..') / \"data\" / \"curated\""
   ]
  },
  {
   "cell_type": "code",
   "execution_count": 4,
   "metadata": {
    "ExecuteTime": {
     "end_time": "2024-02-03T12:24:54.066978Z",
     "start_time": "2024-02-03T12:24:54.035402Z"
    }
   },
   "outputs": [
    {
     "name": "stdout",
     "output_type": "stream",
     "text": [
      "Running on file: ../data/raw/2023-2024 NBA Player Stats - Regular.csv\n"
     ]
    }
   ],
   "source": [
    "files = list(RAW_DATA_DIR.glob('*.csv'))\n",
    "pattern = re.compile(r'\\d{4}-\\d{4} NBA Player Stats - Regular\\.csv$')\n",
    "matching_files = sorted(f for f in files if pattern.match(f.name))\n",
    "filename = matching_files[-1]\n",
    "print(f\"Running on file: {filename}\")\n",
    "players = pd.read_csv(filename, encoding='Windows-1252')\n",
    "players = create_nba_features(players=players)\n",
    "players[\"rising_stars\"] = players.apply(stars_definition, axis=1)"
   ]
  },
  {
   "cell_type": "code",
   "outputs": [],
   "source": [
    "name = filename.stem\n",
    "season = re.search(r\"\\d{4}-\\d{4}\", name).group(0)"
   ],
   "metadata": {
    "collapsed": false,
    "ExecuteTime": {
     "end_time": "2024-02-03T12:24:58.427067Z",
     "start_time": "2024-02-03T12:24:58.423841Z"
    }
   },
   "execution_count": 5
  },
  {
   "cell_type": "code",
   "outputs": [
    {
     "name": "stdout",
     "output_type": "stream",
     "text": [
      "Saved file to: ../data/curated/2023-2024_players.csv\n"
     ]
    }
   ],
   "source": [
    "if not (CURATED_DATA_DIR / (season + \"_players.csv\")).exists():\n",
    "    players.to_csv(str(CURATED_DATA_DIR / (season + \"_players.csv\")), encoding='Windows-1252')\n",
    "    print(\"Saved file to: \" + str(CURATED_DATA_DIR / (season + \"_players.csv\")))\n",
    "else:\n",
    "    print(\"File already exists\")"
   ],
   "metadata": {
    "collapsed": false,
    "ExecuteTime": {
     "end_time": "2024-02-03T12:25:02.433858Z",
     "start_time": "2024-02-03T12:25:02.421074Z"
    }
   },
   "execution_count": 6
  },
  {
   "cell_type": "code",
   "execution_count": 7,
   "metadata": {
    "ExecuteTime": {
     "end_time": "2024-02-03T12:25:16.124171Z",
     "start_time": "2024-02-03T12:25:16.093091Z"
    }
   },
   "outputs": [
    {
     "data": {
      "text/plain": "      Rk           Player Pos  Age   Tm   G  GS    MP   FG   FGA  ...  AST  \\\n176  165       A.J. Green  SG   24  MIL  23   0   7.2  1.1   2.3  ...  0.6   \n272  261      A.J. Lawson  SG   23  DAL  16   0  10.3  1.8   3.7  ...  0.6   \n182  171       AJ Griffin  SF   20  ATL  13   0   9.0  0.8   2.8  ...  0.3   \n172  161     Aaron Gordon  PF   28  DEN  33  33  31.5  5.5  10.2  ...  3.2   \n210  199    Aaron Holiday  PG   27  HOU  34   1  18.0  2.5   5.7  ...  1.7   \n..   ...              ...  ..  ...  ...  ..  ..   ...  ...   ...  ...  ...   \n103   96     Zach Collins   C   26  SAS  31  23  26.1  4.9  10.0  ...  3.3   \n271  260      Zach LaVine  SG   28  CHI  21  19  35.3  7.0  15.8  ...  3.7   \n358  343       Zeke Nnaji  PF   23  DEN  33   0   9.9  1.2   2.5  ...  0.5   \n534  511  Ziaire Williams  SF   22  MEM  35   8  18.9  2.8   6.9  ...  1.3   \n535  512  Zion Williamson  PF   23  NOP  31  31  30.2  8.5  14.6  ...  4.6   \n\n     STL  BLK  TOV   PF   PTS   EFF       TS%   position  rising_stars  \n176  0.0  0.0  0.0  0.8   3.1   3.2  0.673913  Backcourt         False  \n272  0.6  0.1  0.5  0.8   4.8   4.8  0.585938  Backcourt         False  \n182  0.1  0.0  0.5  0.5   2.5   1.3  0.432825       Wing         False  \n172  0.9  0.6  1.3  1.7  13.8  17.9  0.592173        Big         False  \n210  0.5  0.1  0.8  1.6   6.9   7.1  0.574234  Backcourt         False  \n..   ...  ...  ...  ...   ...   ...       ...        ...           ...  \n103  0.6  0.8  2.3  3.4  12.9  15.7  0.581081        Big         False  \n271  1.0  0.3  2.1  2.1  20.3  19.0  0.570866  Backcourt         False  \n358  0.2  0.6  0.6  1.6   3.3   4.5  0.544914        Big         False  \n534  0.5  0.3  1.2  1.7   7.8   7.9  0.525040       Wing         False  \n535  1.0  0.4  2.6  2.7  21.7  22.6  0.615219        Big          True  \n\n[546 rows x 34 columns]",
      "text/html": "<div>\n<style scoped>\n    .dataframe tbody tr th:only-of-type {\n        vertical-align: middle;\n    }\n\n    .dataframe tbody tr th {\n        vertical-align: top;\n    }\n\n    .dataframe thead th {\n        text-align: right;\n    }\n</style>\n<table border=\"1\" class=\"dataframe\">\n  <thead>\n    <tr style=\"text-align: right;\">\n      <th></th>\n      <th>Rk</th>\n      <th>Player</th>\n      <th>Pos</th>\n      <th>Age</th>\n      <th>Tm</th>\n      <th>G</th>\n      <th>GS</th>\n      <th>MP</th>\n      <th>FG</th>\n      <th>FGA</th>\n      <th>...</th>\n      <th>AST</th>\n      <th>STL</th>\n      <th>BLK</th>\n      <th>TOV</th>\n      <th>PF</th>\n      <th>PTS</th>\n      <th>EFF</th>\n      <th>TS%</th>\n      <th>position</th>\n      <th>rising_stars</th>\n    </tr>\n  </thead>\n  <tbody>\n    <tr>\n      <th>176</th>\n      <td>165</td>\n      <td>A.J. Green</td>\n      <td>SG</td>\n      <td>24</td>\n      <td>MIL</td>\n      <td>23</td>\n      <td>0</td>\n      <td>7.2</td>\n      <td>1.1</td>\n      <td>2.3</td>\n      <td>...</td>\n      <td>0.6</td>\n      <td>0.0</td>\n      <td>0.0</td>\n      <td>0.0</td>\n      <td>0.8</td>\n      <td>3.1</td>\n      <td>3.2</td>\n      <td>0.673913</td>\n      <td>Backcourt</td>\n      <td>False</td>\n    </tr>\n    <tr>\n      <th>272</th>\n      <td>261</td>\n      <td>A.J. Lawson</td>\n      <td>SG</td>\n      <td>23</td>\n      <td>DAL</td>\n      <td>16</td>\n      <td>0</td>\n      <td>10.3</td>\n      <td>1.8</td>\n      <td>3.7</td>\n      <td>...</td>\n      <td>0.6</td>\n      <td>0.6</td>\n      <td>0.1</td>\n      <td>0.5</td>\n      <td>0.8</td>\n      <td>4.8</td>\n      <td>4.8</td>\n      <td>0.585938</td>\n      <td>Backcourt</td>\n      <td>False</td>\n    </tr>\n    <tr>\n      <th>182</th>\n      <td>171</td>\n      <td>AJ Griffin</td>\n      <td>SF</td>\n      <td>20</td>\n      <td>ATL</td>\n      <td>13</td>\n      <td>0</td>\n      <td>9.0</td>\n      <td>0.8</td>\n      <td>2.8</td>\n      <td>...</td>\n      <td>0.3</td>\n      <td>0.1</td>\n      <td>0.0</td>\n      <td>0.5</td>\n      <td>0.5</td>\n      <td>2.5</td>\n      <td>1.3</td>\n      <td>0.432825</td>\n      <td>Wing</td>\n      <td>False</td>\n    </tr>\n    <tr>\n      <th>172</th>\n      <td>161</td>\n      <td>Aaron Gordon</td>\n      <td>PF</td>\n      <td>28</td>\n      <td>DEN</td>\n      <td>33</td>\n      <td>33</td>\n      <td>31.5</td>\n      <td>5.5</td>\n      <td>10.2</td>\n      <td>...</td>\n      <td>3.2</td>\n      <td>0.9</td>\n      <td>0.6</td>\n      <td>1.3</td>\n      <td>1.7</td>\n      <td>13.8</td>\n      <td>17.9</td>\n      <td>0.592173</td>\n      <td>Big</td>\n      <td>False</td>\n    </tr>\n    <tr>\n      <th>210</th>\n      <td>199</td>\n      <td>Aaron Holiday</td>\n      <td>PG</td>\n      <td>27</td>\n      <td>HOU</td>\n      <td>34</td>\n      <td>1</td>\n      <td>18.0</td>\n      <td>2.5</td>\n      <td>5.7</td>\n      <td>...</td>\n      <td>1.7</td>\n      <td>0.5</td>\n      <td>0.1</td>\n      <td>0.8</td>\n      <td>1.6</td>\n      <td>6.9</td>\n      <td>7.1</td>\n      <td>0.574234</td>\n      <td>Backcourt</td>\n      <td>False</td>\n    </tr>\n    <tr>\n      <th>...</th>\n      <td>...</td>\n      <td>...</td>\n      <td>...</td>\n      <td>...</td>\n      <td>...</td>\n      <td>...</td>\n      <td>...</td>\n      <td>...</td>\n      <td>...</td>\n      <td>...</td>\n      <td>...</td>\n      <td>...</td>\n      <td>...</td>\n      <td>...</td>\n      <td>...</td>\n      <td>...</td>\n      <td>...</td>\n      <td>...</td>\n      <td>...</td>\n      <td>...</td>\n      <td>...</td>\n    </tr>\n    <tr>\n      <th>103</th>\n      <td>96</td>\n      <td>Zach Collins</td>\n      <td>C</td>\n      <td>26</td>\n      <td>SAS</td>\n      <td>31</td>\n      <td>23</td>\n      <td>26.1</td>\n      <td>4.9</td>\n      <td>10.0</td>\n      <td>...</td>\n      <td>3.3</td>\n      <td>0.6</td>\n      <td>0.8</td>\n      <td>2.3</td>\n      <td>3.4</td>\n      <td>12.9</td>\n      <td>15.7</td>\n      <td>0.581081</td>\n      <td>Big</td>\n      <td>False</td>\n    </tr>\n    <tr>\n      <th>271</th>\n      <td>260</td>\n      <td>Zach LaVine</td>\n      <td>SG</td>\n      <td>28</td>\n      <td>CHI</td>\n      <td>21</td>\n      <td>19</td>\n      <td>35.3</td>\n      <td>7.0</td>\n      <td>15.8</td>\n      <td>...</td>\n      <td>3.7</td>\n      <td>1.0</td>\n      <td>0.3</td>\n      <td>2.1</td>\n      <td>2.1</td>\n      <td>20.3</td>\n      <td>19.0</td>\n      <td>0.570866</td>\n      <td>Backcourt</td>\n      <td>False</td>\n    </tr>\n    <tr>\n      <th>358</th>\n      <td>343</td>\n      <td>Zeke Nnaji</td>\n      <td>PF</td>\n      <td>23</td>\n      <td>DEN</td>\n      <td>33</td>\n      <td>0</td>\n      <td>9.9</td>\n      <td>1.2</td>\n      <td>2.5</td>\n      <td>...</td>\n      <td>0.5</td>\n      <td>0.2</td>\n      <td>0.6</td>\n      <td>0.6</td>\n      <td>1.6</td>\n      <td>3.3</td>\n      <td>4.5</td>\n      <td>0.544914</td>\n      <td>Big</td>\n      <td>False</td>\n    </tr>\n    <tr>\n      <th>534</th>\n      <td>511</td>\n      <td>Ziaire Williams</td>\n      <td>SF</td>\n      <td>22</td>\n      <td>MEM</td>\n      <td>35</td>\n      <td>8</td>\n      <td>18.9</td>\n      <td>2.8</td>\n      <td>6.9</td>\n      <td>...</td>\n      <td>1.3</td>\n      <td>0.5</td>\n      <td>0.3</td>\n      <td>1.2</td>\n      <td>1.7</td>\n      <td>7.8</td>\n      <td>7.9</td>\n      <td>0.525040</td>\n      <td>Wing</td>\n      <td>False</td>\n    </tr>\n    <tr>\n      <th>535</th>\n      <td>512</td>\n      <td>Zion Williamson</td>\n      <td>PF</td>\n      <td>23</td>\n      <td>NOP</td>\n      <td>31</td>\n      <td>31</td>\n      <td>30.2</td>\n      <td>8.5</td>\n      <td>14.6</td>\n      <td>...</td>\n      <td>4.6</td>\n      <td>1.0</td>\n      <td>0.4</td>\n      <td>2.6</td>\n      <td>2.7</td>\n      <td>21.7</td>\n      <td>22.6</td>\n      <td>0.615219</td>\n      <td>Big</td>\n      <td>True</td>\n    </tr>\n  </tbody>\n</table>\n<p>546 rows × 34 columns</p>\n</div>"
     },
     "execution_count": 7,
     "metadata": {},
     "output_type": "execute_result"
    }
   ],
   "source": [
    "players.sort_values(by=['Player'], ascending=True)"
   ]
  },
  {
   "cell_type": "code",
   "outputs": [],
   "source": [
    "from sklearn.preprocessing import StandardScaler, OneHotEncoder\n",
    "from sklearn.compose import ColumnTransformer\n",
    "from sklearn.pipeline import Pipeline\n",
    "from sklearn.metrics import accuracy_score\n",
    "from sklearn.ensemble import RandomForestClassifier\n",
    "from sklearn.model_selection import train_test_split"
   ],
   "metadata": {
    "collapsed": false,
    "ExecuteTime": {
     "end_time": "2024-02-03T12:25:21.321503Z",
     "start_time": "2024-02-03T12:25:20.072466Z"
    }
   },
   "execution_count": 8
  },
  {
   "cell_type": "code",
   "outputs": [],
   "source": [
    "# Define preprocessor\n",
    "preprocessor = ColumnTransformer(\n",
    "    transformers=[\n",
    "        ('num', StandardScaler(),\n",
    "         ['Age', 'G', 'GS', 'MP', 'FG', 'FGA', '3P', '3PA', '2P', '2PA', 'FT', 'FTA', 'ORB', 'DRB', 'TRB',\n",
    "          'AST', 'STL', 'BLK', 'TOV', 'PF']),\n",
    "        ('cat', OneHotEncoder(handle_unknown='ignore'), ['Pos', 'Tm'])\n",
    "    ])\n",
    "\n",
    "# Define model\n",
    "model = Pipeline(steps=[\n",
    "    ('preprocessor', preprocessor),\n",
    "    ('classifier', RandomForestClassifier())\n",
    "])"
   ],
   "metadata": {
    "collapsed": false,
    "ExecuteTime": {
     "end_time": "2024-02-03T12:25:25.662643Z",
     "start_time": "2024-02-03T12:25:25.659500Z"
    }
   },
   "execution_count": 9
  },
  {
   "cell_type": "code",
   "outputs": [],
   "source": [
    "# Split data into training and test sets\n",
    "X = players.drop(['Player', 'rising_stars'], axis=1)\n",
    "y = players['rising_stars']\n",
    "X_train, X_test, y_train, y_test = train_test_split(X, y, test_size=0.25, random_state=42)"
   ],
   "metadata": {
    "collapsed": false,
    "ExecuteTime": {
     "end_time": "2024-02-03T12:25:30.762053Z",
     "start_time": "2024-02-03T12:25:30.750706Z"
    }
   },
   "execution_count": 10
  },
  {
   "cell_type": "code",
   "outputs": [
    {
     "data": {
      "text/plain": "Pipeline(steps=[('preprocessor',\n                 ColumnTransformer(transformers=[('num', StandardScaler(),\n                                                  ['Age', 'G', 'GS', 'MP', 'FG',\n                                                   'FGA', '3P', '3PA', '2P',\n                                                   '2PA', 'FT', 'FTA', 'ORB',\n                                                   'DRB', 'TRB', 'AST', 'STL',\n                                                   'BLK', 'TOV', 'PF']),\n                                                 ('cat',\n                                                  OneHotEncoder(handle_unknown='ignore'),\n                                                  ['Pos', 'Tm'])])),\n                ('classifier', RandomForestClassifier())])",
      "text/html": "<style>#sk-container-id-1 {color: black;}#sk-container-id-1 pre{padding: 0;}#sk-container-id-1 div.sk-toggleable {background-color: white;}#sk-container-id-1 label.sk-toggleable__label {cursor: pointer;display: block;width: 100%;margin-bottom: 0;padding: 0.3em;box-sizing: border-box;text-align: center;}#sk-container-id-1 label.sk-toggleable__label-arrow:before {content: \"▸\";float: left;margin-right: 0.25em;color: #696969;}#sk-container-id-1 label.sk-toggleable__label-arrow:hover:before {color: black;}#sk-container-id-1 div.sk-estimator:hover label.sk-toggleable__label-arrow:before {color: black;}#sk-container-id-1 div.sk-toggleable__content {max-height: 0;max-width: 0;overflow: hidden;text-align: left;background-color: #f0f8ff;}#sk-container-id-1 div.sk-toggleable__content pre {margin: 0.2em;color: black;border-radius: 0.25em;background-color: #f0f8ff;}#sk-container-id-1 input.sk-toggleable__control:checked~div.sk-toggleable__content {max-height: 200px;max-width: 100%;overflow: auto;}#sk-container-id-1 input.sk-toggleable__control:checked~label.sk-toggleable__label-arrow:before {content: \"▾\";}#sk-container-id-1 div.sk-estimator input.sk-toggleable__control:checked~label.sk-toggleable__label {background-color: #d4ebff;}#sk-container-id-1 div.sk-label input.sk-toggleable__control:checked~label.sk-toggleable__label {background-color: #d4ebff;}#sk-container-id-1 input.sk-hidden--visually {border: 0;clip: rect(1px 1px 1px 1px);clip: rect(1px, 1px, 1px, 1px);height: 1px;margin: -1px;overflow: hidden;padding: 0;position: absolute;width: 1px;}#sk-container-id-1 div.sk-estimator {font-family: monospace;background-color: #f0f8ff;border: 1px dotted black;border-radius: 0.25em;box-sizing: border-box;margin-bottom: 0.5em;}#sk-container-id-1 div.sk-estimator:hover {background-color: #d4ebff;}#sk-container-id-1 div.sk-parallel-item::after {content: \"\";width: 100%;border-bottom: 1px solid gray;flex-grow: 1;}#sk-container-id-1 div.sk-label:hover label.sk-toggleable__label {background-color: #d4ebff;}#sk-container-id-1 div.sk-serial::before {content: \"\";position: absolute;border-left: 1px solid gray;box-sizing: border-box;top: 0;bottom: 0;left: 50%;z-index: 0;}#sk-container-id-1 div.sk-serial {display: flex;flex-direction: column;align-items: center;background-color: white;padding-right: 0.2em;padding-left: 0.2em;position: relative;}#sk-container-id-1 div.sk-item {position: relative;z-index: 1;}#sk-container-id-1 div.sk-parallel {display: flex;align-items: stretch;justify-content: center;background-color: white;position: relative;}#sk-container-id-1 div.sk-item::before, #sk-container-id-1 div.sk-parallel-item::before {content: \"\";position: absolute;border-left: 1px solid gray;box-sizing: border-box;top: 0;bottom: 0;left: 50%;z-index: -1;}#sk-container-id-1 div.sk-parallel-item {display: flex;flex-direction: column;z-index: 1;position: relative;background-color: white;}#sk-container-id-1 div.sk-parallel-item:first-child::after {align-self: flex-end;width: 50%;}#sk-container-id-1 div.sk-parallel-item:last-child::after {align-self: flex-start;width: 50%;}#sk-container-id-1 div.sk-parallel-item:only-child::after {width: 0;}#sk-container-id-1 div.sk-dashed-wrapped {border: 1px dashed gray;margin: 0 0.4em 0.5em 0.4em;box-sizing: border-box;padding-bottom: 0.4em;background-color: white;}#sk-container-id-1 div.sk-label label {font-family: monospace;font-weight: bold;display: inline-block;line-height: 1.2em;}#sk-container-id-1 div.sk-label-container {text-align: center;}#sk-container-id-1 div.sk-container {/* jupyter's `normalize.less` sets `[hidden] { display: none; }` but bootstrap.min.css set `[hidden] { display: none !important; }` so we also need the `!important` here to be able to override the default hidden behavior on the sphinx rendered scikit-learn.org. See: https://github.com/scikit-learn/scikit-learn/issues/21755 */display: inline-block !important;position: relative;}#sk-container-id-1 div.sk-text-repr-fallback {display: none;}</style><div id=\"sk-container-id-1\" class=\"sk-top-container\"><div class=\"sk-text-repr-fallback\"><pre>Pipeline(steps=[(&#x27;preprocessor&#x27;,\n                 ColumnTransformer(transformers=[(&#x27;num&#x27;, StandardScaler(),\n                                                  [&#x27;Age&#x27;, &#x27;G&#x27;, &#x27;GS&#x27;, &#x27;MP&#x27;, &#x27;FG&#x27;,\n                                                   &#x27;FGA&#x27;, &#x27;3P&#x27;, &#x27;3PA&#x27;, &#x27;2P&#x27;,\n                                                   &#x27;2PA&#x27;, &#x27;FT&#x27;, &#x27;FTA&#x27;, &#x27;ORB&#x27;,\n                                                   &#x27;DRB&#x27;, &#x27;TRB&#x27;, &#x27;AST&#x27;, &#x27;STL&#x27;,\n                                                   &#x27;BLK&#x27;, &#x27;TOV&#x27;, &#x27;PF&#x27;]),\n                                                 (&#x27;cat&#x27;,\n                                                  OneHotEncoder(handle_unknown=&#x27;ignore&#x27;),\n                                                  [&#x27;Pos&#x27;, &#x27;Tm&#x27;])])),\n                (&#x27;classifier&#x27;, RandomForestClassifier())])</pre><b>In a Jupyter environment, please rerun this cell to show the HTML representation or trust the notebook. <br />On GitHub, the HTML representation is unable to render, please try loading this page with nbviewer.org.</b></div><div class=\"sk-container\" hidden><div class=\"sk-item sk-dashed-wrapped\"><div class=\"sk-label-container\"><div class=\"sk-label sk-toggleable\"><input class=\"sk-toggleable__control sk-hidden--visually\" id=\"sk-estimator-id-1\" type=\"checkbox\" ><label for=\"sk-estimator-id-1\" class=\"sk-toggleable__label sk-toggleable__label-arrow\">Pipeline</label><div class=\"sk-toggleable__content\"><pre>Pipeline(steps=[(&#x27;preprocessor&#x27;,\n                 ColumnTransformer(transformers=[(&#x27;num&#x27;, StandardScaler(),\n                                                  [&#x27;Age&#x27;, &#x27;G&#x27;, &#x27;GS&#x27;, &#x27;MP&#x27;, &#x27;FG&#x27;,\n                                                   &#x27;FGA&#x27;, &#x27;3P&#x27;, &#x27;3PA&#x27;, &#x27;2P&#x27;,\n                                                   &#x27;2PA&#x27;, &#x27;FT&#x27;, &#x27;FTA&#x27;, &#x27;ORB&#x27;,\n                                                   &#x27;DRB&#x27;, &#x27;TRB&#x27;, &#x27;AST&#x27;, &#x27;STL&#x27;,\n                                                   &#x27;BLK&#x27;, &#x27;TOV&#x27;, &#x27;PF&#x27;]),\n                                                 (&#x27;cat&#x27;,\n                                                  OneHotEncoder(handle_unknown=&#x27;ignore&#x27;),\n                                                  [&#x27;Pos&#x27;, &#x27;Tm&#x27;])])),\n                (&#x27;classifier&#x27;, RandomForestClassifier())])</pre></div></div></div><div class=\"sk-serial\"><div class=\"sk-item sk-dashed-wrapped\"><div class=\"sk-label-container\"><div class=\"sk-label sk-toggleable\"><input class=\"sk-toggleable__control sk-hidden--visually\" id=\"sk-estimator-id-2\" type=\"checkbox\" ><label for=\"sk-estimator-id-2\" class=\"sk-toggleable__label sk-toggleable__label-arrow\">preprocessor: ColumnTransformer</label><div class=\"sk-toggleable__content\"><pre>ColumnTransformer(transformers=[(&#x27;num&#x27;, StandardScaler(),\n                                 [&#x27;Age&#x27;, &#x27;G&#x27;, &#x27;GS&#x27;, &#x27;MP&#x27;, &#x27;FG&#x27;, &#x27;FGA&#x27;, &#x27;3P&#x27;,\n                                  &#x27;3PA&#x27;, &#x27;2P&#x27;, &#x27;2PA&#x27;, &#x27;FT&#x27;, &#x27;FTA&#x27;, &#x27;ORB&#x27;, &#x27;DRB&#x27;,\n                                  &#x27;TRB&#x27;, &#x27;AST&#x27;, &#x27;STL&#x27;, &#x27;BLK&#x27;, &#x27;TOV&#x27;, &#x27;PF&#x27;]),\n                                (&#x27;cat&#x27;, OneHotEncoder(handle_unknown=&#x27;ignore&#x27;),\n                                 [&#x27;Pos&#x27;, &#x27;Tm&#x27;])])</pre></div></div></div><div class=\"sk-parallel\"><div class=\"sk-parallel-item\"><div class=\"sk-item\"><div class=\"sk-label-container\"><div class=\"sk-label sk-toggleable\"><input class=\"sk-toggleable__control sk-hidden--visually\" id=\"sk-estimator-id-3\" type=\"checkbox\" ><label for=\"sk-estimator-id-3\" class=\"sk-toggleable__label sk-toggleable__label-arrow\">num</label><div class=\"sk-toggleable__content\"><pre>[&#x27;Age&#x27;, &#x27;G&#x27;, &#x27;GS&#x27;, &#x27;MP&#x27;, &#x27;FG&#x27;, &#x27;FGA&#x27;, &#x27;3P&#x27;, &#x27;3PA&#x27;, &#x27;2P&#x27;, &#x27;2PA&#x27;, &#x27;FT&#x27;, &#x27;FTA&#x27;, &#x27;ORB&#x27;, &#x27;DRB&#x27;, &#x27;TRB&#x27;, &#x27;AST&#x27;, &#x27;STL&#x27;, &#x27;BLK&#x27;, &#x27;TOV&#x27;, &#x27;PF&#x27;]</pre></div></div></div><div class=\"sk-serial\"><div class=\"sk-item\"><div class=\"sk-estimator sk-toggleable\"><input class=\"sk-toggleable__control sk-hidden--visually\" id=\"sk-estimator-id-4\" type=\"checkbox\" ><label for=\"sk-estimator-id-4\" class=\"sk-toggleable__label sk-toggleable__label-arrow\">StandardScaler</label><div class=\"sk-toggleable__content\"><pre>StandardScaler()</pre></div></div></div></div></div></div><div class=\"sk-parallel-item\"><div class=\"sk-item\"><div class=\"sk-label-container\"><div class=\"sk-label sk-toggleable\"><input class=\"sk-toggleable__control sk-hidden--visually\" id=\"sk-estimator-id-5\" type=\"checkbox\" ><label for=\"sk-estimator-id-5\" class=\"sk-toggleable__label sk-toggleable__label-arrow\">cat</label><div class=\"sk-toggleable__content\"><pre>[&#x27;Pos&#x27;, &#x27;Tm&#x27;]</pre></div></div></div><div class=\"sk-serial\"><div class=\"sk-item\"><div class=\"sk-estimator sk-toggleable\"><input class=\"sk-toggleable__control sk-hidden--visually\" id=\"sk-estimator-id-6\" type=\"checkbox\" ><label for=\"sk-estimator-id-6\" class=\"sk-toggleable__label sk-toggleable__label-arrow\">OneHotEncoder</label><div class=\"sk-toggleable__content\"><pre>OneHotEncoder(handle_unknown=&#x27;ignore&#x27;)</pre></div></div></div></div></div></div></div></div><div class=\"sk-item\"><div class=\"sk-estimator sk-toggleable\"><input class=\"sk-toggleable__control sk-hidden--visually\" id=\"sk-estimator-id-7\" type=\"checkbox\" ><label for=\"sk-estimator-id-7\" class=\"sk-toggleable__label sk-toggleable__label-arrow\">RandomForestClassifier</label><div class=\"sk-toggleable__content\"><pre>RandomForestClassifier()</pre></div></div></div></div></div></div></div>"
     },
     "execution_count": 11,
     "metadata": {},
     "output_type": "execute_result"
    }
   ],
   "source": [
    "# Train the model\n",
    "model.fit(X_train, y_train)"
   ],
   "metadata": {
    "collapsed": false,
    "ExecuteTime": {
     "end_time": "2024-02-03T12:25:32.460573Z",
     "start_time": "2024-02-03T12:25:32.391016Z"
    }
   },
   "execution_count": 11
  },
  {
   "cell_type": "code",
   "outputs": [],
   "source": [
    "# Make predictions\n",
    "y_pred = model.predict(X_test)"
   ],
   "metadata": {
    "collapsed": false,
    "ExecuteTime": {
     "end_time": "2024-02-03T12:25:34.377938Z",
     "start_time": "2024-02-03T12:25:34.352800Z"
    }
   },
   "execution_count": 12
  },
  {
   "cell_type": "code",
   "outputs": [
    {
     "name": "stdout",
     "output_type": "stream",
     "text": [
      "Model accuracy: 0.9927007299270073\n"
     ]
    }
   ],
   "source": [
    "# Evaluate the model\n",
    "accuracy = accuracy_score(y_test, y_pred)\n",
    "print(f\"Model accuracy: {accuracy}\")"
   ],
   "metadata": {
    "collapsed": false,
    "ExecuteTime": {
     "end_time": "2024-02-03T12:25:36.698242Z",
     "start_time": "2024-02-03T12:25:36.694347Z"
    }
   },
   "execution_count": 13
  },
  {
   "cell_type": "code",
   "outputs": [
    {
     "data": {
      "text/plain": "array([[130,   0],\n       [  1,   6]])"
     },
     "execution_count": 14,
     "metadata": {},
     "output_type": "execute_result"
    }
   ],
   "source": [
    "# Confusion matrix\n",
    "from sklearn.metrics import confusion_matrix\n",
    "confusion_matrix(y_test, y_pred)"
   ],
   "metadata": {
    "collapsed": false,
    "ExecuteTime": {
     "end_time": "2024-02-03T12:25:51.570216Z",
     "start_time": "2024-02-03T12:25:51.565816Z"
    }
   },
   "execution_count": 14
  },
  {
   "cell_type": "code",
   "outputs": [
    {
     "name": "stdout",
     "output_type": "stream",
     "text": [
      "Cross-validation scores: [0.97272727 0.97247706 0.94495413 0.93577982 0.98165138]\n",
      "Mean cross-validation score: 0.9615179316096748\n"
     ]
    },
    {
     "data": {
      "text/plain": "<Figure size 1200x800 with 1 Axes>",
      "image/png": "[encoded data removed]"
     },
     "metadata": {},
     "output_type": "display_data"
    }
   ],
   "source": [
    "from sklearn.model_selection import cross_val_score, learning_curve\n",
    "import matplotlib.pyplot as plt\n",
    "import numpy as np\n",
    "\n",
    "# Cross-validation\n",
    "cv_scores = cross_val_score(model, X, y, cv=5)\n",
    "print(f\"Cross-validation scores: {cv_scores}\")\n",
    "print(f\"Mean cross-validation score: {np.mean(cv_scores)}\")\n",
    "\n",
    "# Learning curves\n",
    "train_sizes, train_scores, test_scores = learning_curve(model, X, y, cv=5)\n",
    "\n",
    "plt.figure(figsize=(12, 8))\n",
    "plt.plot(train_sizes, np.mean(train_scores, axis=1), label='Training score')\n",
    "plt.plot(train_sizes, np.mean(test_scores, axis=1), label='Cross-validation score')\n",
    "plt.title('Learning curve')\n",
    "plt.xlabel('Training set size'), plt.ylabel('Accuracy score'), plt.legend(loc='best')\n",
    "plt.show()"
   ],
   "metadata": {
    "collapsed": false,
    "ExecuteTime": {
     "end_time": "2024-02-03T12:29:44.498764Z",
     "start_time": "2024-02-03T12:29:42.714533Z"
    }
   },
   "execution_count": 15
  },
  {
   "cell_type": "code",
   "execution_count": 6,
   "metadata": {},
   "outputs": [],
   "source": [
    "assert sum(players.isnull().sum()) == 0, \"There are not null values in the dataset\""
   ]
  },
  {
   "cell_type": "code",
   "execution_count": 7,
   "metadata": {},
   "outputs": [],
   "source": [
    "players[\"EFF\"] = players.PTS + players.TRB + players.AST + players.STL + players.BLK - (players.FGA - players.FG) - (players.FTA - players.FT) - players.TOV"
   ]
  },
  {
   "cell_type": "code",
   "execution_count": 8,
   "metadata": {},
   "outputs": [
    {
     "data": {
      "text/plain": [
       "<Axes: xlabel='Pos', ylabel='EFF'>"
      ]
     },
     "execution_count": 8,
     "metadata": {},
     "output_type": "execute_result"
    },
    {
     "data": {
      "image/png": "[encoded data removed]",
      "text/plain": [
       "<Figure size 1400x600 with 1 Axes>"
      ]
     },
     "metadata": {},
     "output_type": "display_data"
    }
   ],
   "source": [
    "plt.figure(figsize=(14,6))\n",
    "sns.swarmplot(\n",
    "    x=players[\"Pos\"],\n",
    "    y=players[\"EFF\"]\n",
    ")"
   ]
  },
  {
   "cell_type": "code",
   "execution_count": 9,
   "metadata": {},
   "outputs": [],
   "source": [
    "ages = players.Age.describe().round(decimals=1) # used to specify the first 25%, defining what is a young player\n",
    "points = players.PTS.describe().round(decimals=1)"
   ]
  },
  {
   "cell_type": "code",
   "execution_count": 10,
   "metadata": {},
   "outputs": [
    {
     "data": {
      "image/png": "[encoded data removed]",
      "text/plain": [
       "<Figure size 640x480 with 1 Axes>"
      ]
     },
     "metadata": {},
     "output_type": "display_data"
    }
   ],
   "source": [
    "sns.boxplot(data=players, y=\"PTS\");"
   ]
  },
  {
   "cell_type": "code",
   "execution_count": 11,
   "metadata": {},
   "outputs": [
    {
     "data": {
      "image/png": "[encoded data removed]",
      "text/plain": [
       "<Figure size 1400x600 with 1 Axes>"
      ]
     },
     "metadata": {},
     "output_type": "display_data"
    }
   ],
   "source": [
    "plt.figure(figsize=(14,6))\n",
    "sns.boxplot(data=players, x=\"Age\", y=\"PTS\");"
   ]
  },
  {
   "cell_type": "markdown",
   "metadata": {},
   "source": [
    "With the graph below, we can see that within <23y (what we have defined to be a young age), if we have more than 15 points we are special. Those data will then be used to filter the current base player and keep only special ones."
   ]
  },
  {
   "cell_type": "code",
   "execution_count": 12,
   "metadata": {},
   "outputs": [
    {
     "data": {
      "text/html": [
       "<div>\n",
       "<style scoped>\n",
       "    .dataframe tbody tr th:only-of-type {\n",
       "        vertical-align: middle;\n",
       "    }\n",
       "\n",
       "    .dataframe tbody tr th {\n",
       "        vertical-align: top;\n",
       "    }\n",
       "\n",
       "    .dataframe thead th {\n",
       "        text-align: right;\n",
       "    }\n",
       "</style>\n",
       "<table border=\"1\" class=\"dataframe\">\n",
       "  <thead>\n",
       "    <tr style=\"text-align: right;\">\n",
       "      <th></th>\n",
       "      <th>Rk</th>\n",
       "      <th>Player</th>\n",
       "      <th>Pos</th>\n",
       "      <th>Age</th>\n",
       "      <th>Tm</th>\n",
       "      <th>G</th>\n",
       "      <th>GS</th>\n",
       "      <th>MP</th>\n",
       "      <th>FG</th>\n",
       "      <th>FGA</th>\n",
       "      <th>...</th>\n",
       "      <th>ORB</th>\n",
       "      <th>DRB</th>\n",
       "      <th>TRB</th>\n",
       "      <th>AST</th>\n",
       "      <th>STL</th>\n",
       "      <th>BLK</th>\n",
       "      <th>TOV</th>\n",
       "      <th>PF</th>\n",
       "      <th>PTS</th>\n",
       "      <th>EFF</th>\n",
       "    </tr>\n",
       "  </thead>\n",
       "  <tbody>\n",
       "    <tr>\n",
       "      <th>407</th>\n",
       "      <td>400</td>\n",
       "      <td>Shaedon Sharpe</td>\n",
       "      <td>SG</td>\n",
       "      <td>20</td>\n",
       "      <td>POR</td>\n",
       "      <td>21</td>\n",
       "      <td>20</td>\n",
       "      <td>37.0</td>\n",
       "      <td>6.4</td>\n",
       "      <td>15.0</td>\n",
       "      <td>...</td>\n",
       "      <td>1.5</td>\n",
       "      <td>4.3</td>\n",
       "      <td>5.8</td>\n",
       "      <td>3.5</td>\n",
       "      <td>1.0</td>\n",
       "      <td>0.4</td>\n",
       "      <td>2.9</td>\n",
       "      <td>3.0</td>\n",
       "      <td>18.4</td>\n",
       "      <td>16.9</td>\n",
       "    </tr>\n",
       "    <tr>\n",
       "      <th>476</th>\n",
       "      <td>465</td>\n",
       "      <td>Victor Wembanyama</td>\n",
       "      <td>PF</td>\n",
       "      <td>20</td>\n",
       "      <td>SAS</td>\n",
       "      <td>20</td>\n",
       "      <td>20</td>\n",
       "      <td>30.3</td>\n",
       "      <td>7.1</td>\n",
       "      <td>16.4</td>\n",
       "      <td>...</td>\n",
       "      <td>2.4</td>\n",
       "      <td>7.8</td>\n",
       "      <td>10.2</td>\n",
       "      <td>2.6</td>\n",
       "      <td>1.3</td>\n",
       "      <td>2.7</td>\n",
       "      <td>3.3</td>\n",
       "      <td>2.5</td>\n",
       "      <td>19.0</td>\n",
       "      <td>22.4</td>\n",
       "    </tr>\n",
       "    <tr>\n",
       "      <th>162</th>\n",
       "      <td>159</td>\n",
       "      <td>Jalen Green</td>\n",
       "      <td>SG</td>\n",
       "      <td>21</td>\n",
       "      <td>HOU</td>\n",
       "      <td>19</td>\n",
       "      <td>19</td>\n",
       "      <td>31.7</td>\n",
       "      <td>6.4</td>\n",
       "      <td>15.1</td>\n",
       "      <td>...</td>\n",
       "      <td>0.4</td>\n",
       "      <td>4.3</td>\n",
       "      <td>4.6</td>\n",
       "      <td>3.1</td>\n",
       "      <td>0.5</td>\n",
       "      <td>0.4</td>\n",
       "      <td>2.4</td>\n",
       "      <td>1.5</td>\n",
       "      <td>19.1</td>\n",
       "      <td>15.5</td>\n",
       "    </tr>\n",
       "    <tr>\n",
       "      <th>22</th>\n",
       "      <td>23</td>\n",
       "      <td>Paolo Banchero</td>\n",
       "      <td>PF</td>\n",
       "      <td>21</td>\n",
       "      <td>ORL</td>\n",
       "      <td>22</td>\n",
       "      <td>22</td>\n",
       "      <td>33.5</td>\n",
       "      <td>7.5</td>\n",
       "      <td>15.3</td>\n",
       "      <td>...</td>\n",
       "      <td>1.3</td>\n",
       "      <td>5.4</td>\n",
       "      <td>6.7</td>\n",
       "      <td>4.5</td>\n",
       "      <td>1.0</td>\n",
       "      <td>0.6</td>\n",
       "      <td>3.0</td>\n",
       "      <td>2.4</td>\n",
       "      <td>20.7</td>\n",
       "      <td>20.7</td>\n",
       "    </tr>\n",
       "    <tr>\n",
       "      <th>197</th>\n",
       "      <td>194</td>\n",
       "      <td>Chet Holmgren</td>\n",
       "      <td>C</td>\n",
       "      <td>21</td>\n",
       "      <td>OKC</td>\n",
       "      <td>21</td>\n",
       "      <td>21</td>\n",
       "      <td>30.0</td>\n",
       "      <td>6.0</td>\n",
       "      <td>11.7</td>\n",
       "      <td>...</td>\n",
       "      <td>1.7</td>\n",
       "      <td>6.1</td>\n",
       "      <td>7.8</td>\n",
       "      <td>2.5</td>\n",
       "      <td>0.9</td>\n",
       "      <td>2.4</td>\n",
       "      <td>2.0</td>\n",
       "      <td>2.9</td>\n",
       "      <td>17.1</td>\n",
       "      <td>22.5</td>\n",
       "    </tr>\n",
       "    <tr>\n",
       "      <th>402</th>\n",
       "      <td>395</td>\n",
       "      <td>Alperen Þengün</td>\n",
       "      <td>C</td>\n",
       "      <td>21</td>\n",
       "      <td>HOU</td>\n",
       "      <td>19</td>\n",
       "      <td>19</td>\n",
       "      <td>32.9</td>\n",
       "      <td>8.5</td>\n",
       "      <td>15.7</td>\n",
       "      <td>...</td>\n",
       "      <td>2.5</td>\n",
       "      <td>6.5</td>\n",
       "      <td>9.1</td>\n",
       "      <td>5.7</td>\n",
       "      <td>0.9</td>\n",
       "      <td>0.8</td>\n",
       "      <td>2.5</td>\n",
       "      <td>3.2</td>\n",
       "      <td>20.8</td>\n",
       "      <td>25.9</td>\n",
       "    </tr>\n",
       "    <tr>\n",
       "      <th>437</th>\n",
       "      <td>428</td>\n",
       "      <td>Cam Thomas</td>\n",
       "      <td>SG</td>\n",
       "      <td>22</td>\n",
       "      <td>BRK</td>\n",
       "      <td>12</td>\n",
       "      <td>10</td>\n",
       "      <td>31.5</td>\n",
       "      <td>8.9</td>\n",
       "      <td>19.8</td>\n",
       "      <td>...</td>\n",
       "      <td>0.2</td>\n",
       "      <td>3.3</td>\n",
       "      <td>3.5</td>\n",
       "      <td>2.3</td>\n",
       "      <td>0.7</td>\n",
       "      <td>0.6</td>\n",
       "      <td>1.7</td>\n",
       "      <td>2.0</td>\n",
       "      <td>23.7</td>\n",
       "      <td>17.5</td>\n",
       "    </tr>\n",
       "    <tr>\n",
       "      <th>102</th>\n",
       "      <td>99</td>\n",
       "      <td>Cade Cunningham</td>\n",
       "      <td>PG</td>\n",
       "      <td>22</td>\n",
       "      <td>DET</td>\n",
       "      <td>22</td>\n",
       "      <td>22</td>\n",
       "      <td>34.9</td>\n",
       "      <td>8.1</td>\n",
       "      <td>19.4</td>\n",
       "      <td>...</td>\n",
       "      <td>0.5</td>\n",
       "      <td>3.3</td>\n",
       "      <td>3.8</td>\n",
       "      <td>7.3</td>\n",
       "      <td>1.0</td>\n",
       "      <td>0.2</td>\n",
       "      <td>4.3</td>\n",
       "      <td>2.7</td>\n",
       "      <td>22.0</td>\n",
       "      <td>18.3</td>\n",
       "    </tr>\n",
       "    <tr>\n",
       "      <th>486</th>\n",
       "      <td>475</td>\n",
       "      <td>Jalen Williams</td>\n",
       "      <td>PF</td>\n",
       "      <td>22</td>\n",
       "      <td>OKC</td>\n",
       "      <td>18</td>\n",
       "      <td>18</td>\n",
       "      <td>33.1</td>\n",
       "      <td>6.7</td>\n",
       "      <td>13.0</td>\n",
       "      <td>...</td>\n",
       "      <td>0.3</td>\n",
       "      <td>3.9</td>\n",
       "      <td>4.2</td>\n",
       "      <td>3.7</td>\n",
       "      <td>0.9</td>\n",
       "      <td>0.3</td>\n",
       "      <td>1.8</td>\n",
       "      <td>3.0</td>\n",
       "      <td>17.9</td>\n",
       "      <td>18.4</td>\n",
       "    </tr>\n",
       "    <tr>\n",
       "      <th>463</th>\n",
       "      <td>452</td>\n",
       "      <td>Franz Wagner</td>\n",
       "      <td>SF</td>\n",
       "      <td>22</td>\n",
       "      <td>ORL</td>\n",
       "      <td>22</td>\n",
       "      <td>22</td>\n",
       "      <td>33.1</td>\n",
       "      <td>7.6</td>\n",
       "      <td>16.5</td>\n",
       "      <td>...</td>\n",
       "      <td>1.2</td>\n",
       "      <td>4.4</td>\n",
       "      <td>5.6</td>\n",
       "      <td>3.7</td>\n",
       "      <td>1.1</td>\n",
       "      <td>0.4</td>\n",
       "      <td>1.7</td>\n",
       "      <td>2.0</td>\n",
       "      <td>20.7</td>\n",
       "      <td>20.2</td>\n",
       "    </tr>\n",
       "    <tr>\n",
       "      <th>124</th>\n",
       "      <td>121</td>\n",
       "      <td>Anthony Edwards</td>\n",
       "      <td>SG</td>\n",
       "      <td>22</td>\n",
       "      <td>MIN</td>\n",
       "      <td>19</td>\n",
       "      <td>19</td>\n",
       "      <td>33.5</td>\n",
       "      <td>8.5</td>\n",
       "      <td>18.7</td>\n",
       "      <td>...</td>\n",
       "      <td>0.7</td>\n",
       "      <td>4.9</td>\n",
       "      <td>5.6</td>\n",
       "      <td>4.8</td>\n",
       "      <td>1.2</td>\n",
       "      <td>0.5</td>\n",
       "      <td>3.1</td>\n",
       "      <td>1.8</td>\n",
       "      <td>24.4</td>\n",
       "      <td>22.5</td>\n",
       "    </tr>\n",
       "    <tr>\n",
       "      <th>312</th>\n",
       "      <td>307</td>\n",
       "      <td>Evan Mobley</td>\n",
       "      <td>PF</td>\n",
       "      <td>22</td>\n",
       "      <td>CLE</td>\n",
       "      <td>21</td>\n",
       "      <td>21</td>\n",
       "      <td>33.6</td>\n",
       "      <td>6.8</td>\n",
       "      <td>11.8</td>\n",
       "      <td>...</td>\n",
       "      <td>2.7</td>\n",
       "      <td>7.8</td>\n",
       "      <td>10.5</td>\n",
       "      <td>2.9</td>\n",
       "      <td>0.8</td>\n",
       "      <td>1.7</td>\n",
       "      <td>2.3</td>\n",
       "      <td>2.9</td>\n",
       "      <td>16.0</td>\n",
       "      <td>23.9</td>\n",
       "    </tr>\n",
       "    <tr>\n",
       "      <th>20</th>\n",
       "      <td>21</td>\n",
       "      <td>LaMelo Ball</td>\n",
       "      <td>PG</td>\n",
       "      <td>22</td>\n",
       "      <td>CHO</td>\n",
       "      <td>15</td>\n",
       "      <td>15</td>\n",
       "      <td>33.4</td>\n",
       "      <td>8.8</td>\n",
       "      <td>19.9</td>\n",
       "      <td>...</td>\n",
       "      <td>1.5</td>\n",
       "      <td>3.9</td>\n",
       "      <td>5.5</td>\n",
       "      <td>8.2</td>\n",
       "      <td>1.4</td>\n",
       "      <td>0.3</td>\n",
       "      <td>3.9</td>\n",
       "      <td>3.5</td>\n",
       "      <td>24.7</td>\n",
       "      <td>24.5</td>\n",
       "    </tr>\n",
       "    <tr>\n",
       "      <th>27</th>\n",
       "      <td>28</td>\n",
       "      <td>Scottie Barnes</td>\n",
       "      <td>SG</td>\n",
       "      <td>22</td>\n",
       "      <td>TOR</td>\n",
       "      <td>22</td>\n",
       "      <td>22</td>\n",
       "      <td>34.8</td>\n",
       "      <td>7.4</td>\n",
       "      <td>15.8</td>\n",
       "      <td>...</td>\n",
       "      <td>2.7</td>\n",
       "      <td>6.5</td>\n",
       "      <td>9.2</td>\n",
       "      <td>5.6</td>\n",
       "      <td>1.7</td>\n",
       "      <td>1.3</td>\n",
       "      <td>2.5</td>\n",
       "      <td>2.0</td>\n",
       "      <td>19.8</td>\n",
       "      <td>25.7</td>\n",
       "    </tr>\n",
       "    <tr>\n",
       "      <th>319</th>\n",
       "      <td>314</td>\n",
       "      <td>Trey Murphy III</td>\n",
       "      <td>SF</td>\n",
       "      <td>23</td>\n",
       "      <td>NOP</td>\n",
       "      <td>3</td>\n",
       "      <td>0</td>\n",
       "      <td>24.7</td>\n",
       "      <td>6.0</td>\n",
       "      <td>13.0</td>\n",
       "      <td>...</td>\n",
       "      <td>0.3</td>\n",
       "      <td>2.3</td>\n",
       "      <td>2.7</td>\n",
       "      <td>1.0</td>\n",
       "      <td>0.3</td>\n",
       "      <td>0.7</td>\n",
       "      <td>0.0</td>\n",
       "      <td>0.7</td>\n",
       "      <td>16.0</td>\n",
       "      <td>13.4</td>\n",
       "    </tr>\n",
       "    <tr>\n",
       "      <th>28</th>\n",
       "      <td>29</td>\n",
       "      <td>RJ Barrett</td>\n",
       "      <td>SG</td>\n",
       "      <td>23</td>\n",
       "      <td>NYK</td>\n",
       "      <td>16</td>\n",
       "      <td>16</td>\n",
       "      <td>29.6</td>\n",
       "      <td>6.5</td>\n",
       "      <td>15.2</td>\n",
       "      <td>...</td>\n",
       "      <td>0.7</td>\n",
       "      <td>3.2</td>\n",
       "      <td>3.9</td>\n",
       "      <td>2.6</td>\n",
       "      <td>0.5</td>\n",
       "      <td>0.2</td>\n",
       "      <td>1.9</td>\n",
       "      <td>1.4</td>\n",
       "      <td>19.1</td>\n",
       "      <td>15.0</td>\n",
       "    </tr>\n",
       "    <tr>\n",
       "      <th>479</th>\n",
       "      <td>468</td>\n",
       "      <td>Coby White</td>\n",
       "      <td>PG</td>\n",
       "      <td>23</td>\n",
       "      <td>CHI</td>\n",
       "      <td>23</td>\n",
       "      <td>23</td>\n",
       "      <td>33.7</td>\n",
       "      <td>5.5</td>\n",
       "      <td>12.7</td>\n",
       "      <td>...</td>\n",
       "      <td>0.3</td>\n",
       "      <td>3.1</td>\n",
       "      <td>3.4</td>\n",
       "      <td>4.3</td>\n",
       "      <td>0.9</td>\n",
       "      <td>0.3</td>\n",
       "      <td>1.9</td>\n",
       "      <td>2.7</td>\n",
       "      <td>15.6</td>\n",
       "      <td>15.1</td>\n",
       "    </tr>\n",
       "    <tr>\n",
       "      <th>11</th>\n",
       "      <td>12</td>\n",
       "      <td>Cole Anthony</td>\n",
       "      <td>PG</td>\n",
       "      <td>23</td>\n",
       "      <td>ORL</td>\n",
       "      <td>22</td>\n",
       "      <td>0</td>\n",
       "      <td>26.0</td>\n",
       "      <td>5.1</td>\n",
       "      <td>11.3</td>\n",
       "      <td>...</td>\n",
       "      <td>1.1</td>\n",
       "      <td>3.5</td>\n",
       "      <td>4.6</td>\n",
       "      <td>3.6</td>\n",
       "      <td>0.7</td>\n",
       "      <td>0.5</td>\n",
       "      <td>2.0</td>\n",
       "      <td>3.0</td>\n",
       "      <td>15.4</td>\n",
       "      <td>15.9</td>\n",
       "    </tr>\n",
       "    <tr>\n",
       "      <th>458</th>\n",
       "      <td>447</td>\n",
       "      <td>Devin Vassell</td>\n",
       "      <td>SG</td>\n",
       "      <td>23</td>\n",
       "      <td>SAS</td>\n",
       "      <td>16</td>\n",
       "      <td>10</td>\n",
       "      <td>28.7</td>\n",
       "      <td>6.6</td>\n",
       "      <td>13.6</td>\n",
       "      <td>...</td>\n",
       "      <td>0.4</td>\n",
       "      <td>2.8</td>\n",
       "      <td>3.1</td>\n",
       "      <td>2.8</td>\n",
       "      <td>1.0</td>\n",
       "      <td>0.1</td>\n",
       "      <td>1.5</td>\n",
       "      <td>1.1</td>\n",
       "      <td>18.1</td>\n",
       "      <td>16.0</td>\n",
       "    </tr>\n",
       "    <tr>\n",
       "      <th>495</th>\n",
       "      <td>484</td>\n",
       "      <td>Zion Williamson</td>\n",
       "      <td>PF</td>\n",
       "      <td>23</td>\n",
       "      <td>NOP</td>\n",
       "      <td>19</td>\n",
       "      <td>19</td>\n",
       "      <td>30.9</td>\n",
       "      <td>8.8</td>\n",
       "      <td>15.3</td>\n",
       "      <td>...</td>\n",
       "      <td>1.9</td>\n",
       "      <td>3.7</td>\n",
       "      <td>5.6</td>\n",
       "      <td>4.8</td>\n",
       "      <td>1.1</td>\n",
       "      <td>0.3</td>\n",
       "      <td>2.7</td>\n",
       "      <td>2.6</td>\n",
       "      <td>22.2</td>\n",
       "      <td>22.2</td>\n",
       "    </tr>\n",
       "    <tr>\n",
       "      <th>286</th>\n",
       "      <td>281</td>\n",
       "      <td>Tyrese Maxey</td>\n",
       "      <td>PG</td>\n",
       "      <td>23</td>\n",
       "      <td>PHI</td>\n",
       "      <td>20</td>\n",
       "      <td>20</td>\n",
       "      <td>38.4</td>\n",
       "      <td>9.4</td>\n",
       "      <td>20.1</td>\n",
       "      <td>...</td>\n",
       "      <td>0.6</td>\n",
       "      <td>3.7</td>\n",
       "      <td>4.3</td>\n",
       "      <td>6.7</td>\n",
       "      <td>0.9</td>\n",
       "      <td>0.7</td>\n",
       "      <td>1.4</td>\n",
       "      <td>2.0</td>\n",
       "      <td>27.1</td>\n",
       "      <td>27.0</td>\n",
       "    </tr>\n",
       "    <tr>\n",
       "      <th>169</th>\n",
       "      <td>166</td>\n",
       "      <td>Tyrese Haliburton</td>\n",
       "      <td>PG</td>\n",
       "      <td>23</td>\n",
       "      <td>IND</td>\n",
       "      <td>18</td>\n",
       "      <td>18</td>\n",
       "      <td>34.4</td>\n",
       "      <td>9.4</td>\n",
       "      <td>17.9</td>\n",
       "      <td>...</td>\n",
       "      <td>0.7</td>\n",
       "      <td>3.4</td>\n",
       "      <td>4.2</td>\n",
       "      <td>12.1</td>\n",
       "      <td>1.0</td>\n",
       "      <td>0.7</td>\n",
       "      <td>2.2</td>\n",
       "      <td>1.1</td>\n",
       "      <td>26.9</td>\n",
       "      <td>33.6</td>\n",
       "    </tr>\n",
       "  </tbody>\n",
       "</table>\n",
       "<p>22 rows × 31 columns</p>\n",
       "</div>"
      ],
      "text/plain": [
       "      Rk             Player Pos  Age   Tm   G  GS    MP   FG   FGA  ...  ORB  \\\n",
       "407  400     Shaedon Sharpe  SG   20  POR  21  20  37.0  6.4  15.0  ...  1.5   \n",
       "476  465  Victor Wembanyama  PF   20  SAS  20  20  30.3  7.1  16.4  ...  2.4   \n",
       "162  159        Jalen Green  SG   21  HOU  19  19  31.7  6.4  15.1  ...  0.4   \n",
       "22    23     Paolo Banchero  PF   21  ORL  22  22  33.5  7.5  15.3  ...  1.3   \n",
       "197  194      Chet Holmgren   C   21  OKC  21  21  30.0  6.0  11.7  ...  1.7   \n",
       "402  395     Alperen Þengün   C   21  HOU  19  19  32.9  8.5  15.7  ...  2.5   \n",
       "437  428         Cam Thomas  SG   22  BRK  12  10  31.5  8.9  19.8  ...  0.2   \n",
       "102   99    Cade Cunningham  PG   22  DET  22  22  34.9  8.1  19.4  ...  0.5   \n",
       "486  475     Jalen Williams  PF   22  OKC  18  18  33.1  6.7  13.0  ...  0.3   \n",
       "463  452       Franz Wagner  SF   22  ORL  22  22  33.1  7.6  16.5  ...  1.2   \n",
       "124  121    Anthony Edwards  SG   22  MIN  19  19  33.5  8.5  18.7  ...  0.7   \n",
       "312  307        Evan Mobley  PF   22  CLE  21  21  33.6  6.8  11.8  ...  2.7   \n",
       "20    21        LaMelo Ball  PG   22  CHO  15  15  33.4  8.8  19.9  ...  1.5   \n",
       "27    28     Scottie Barnes  SG   22  TOR  22  22  34.8  7.4  15.8  ...  2.7   \n",
       "319  314    Trey Murphy III  SF   23  NOP   3   0  24.7  6.0  13.0  ...  0.3   \n",
       "28    29         RJ Barrett  SG   23  NYK  16  16  29.6  6.5  15.2  ...  0.7   \n",
       "479  468         Coby White  PG   23  CHI  23  23  33.7  5.5  12.7  ...  0.3   \n",
       "11    12       Cole Anthony  PG   23  ORL  22   0  26.0  5.1  11.3  ...  1.1   \n",
       "458  447      Devin Vassell  SG   23  SAS  16  10  28.7  6.6  13.6  ...  0.4   \n",
       "495  484    Zion Williamson  PF   23  NOP  19  19  30.9  8.8  15.3  ...  1.9   \n",
       "286  281       Tyrese Maxey  PG   23  PHI  20  20  38.4  9.4  20.1  ...  0.6   \n",
       "169  166  Tyrese Haliburton  PG   23  IND  18  18  34.4  9.4  17.9  ...  0.7   \n",
       "\n",
       "     DRB   TRB   AST  STL  BLK  TOV   PF   PTS   EFF  \n",
       "407  4.3   5.8   3.5  1.0  0.4  2.9  3.0  18.4  16.9  \n",
       "476  7.8  10.2   2.6  1.3  2.7  3.3  2.5  19.0  22.4  \n",
       "162  4.3   4.6   3.1  0.5  0.4  2.4  1.5  19.1  15.5  \n",
       "22   5.4   6.7   4.5  1.0  0.6  3.0  2.4  20.7  20.7  \n",
       "197  6.1   7.8   2.5  0.9  2.4  2.0  2.9  17.1  22.5  \n",
       "402  6.5   9.1   5.7  0.9  0.8  2.5  3.2  20.8  25.9  \n",
       "437  3.3   3.5   2.3  0.7  0.6  1.7  2.0  23.7  17.5  \n",
       "102  3.3   3.8   7.3  1.0  0.2  4.3  2.7  22.0  18.3  \n",
       "486  3.9   4.2   3.7  0.9  0.3  1.8  3.0  17.9  18.4  \n",
       "463  4.4   5.6   3.7  1.1  0.4  1.7  2.0  20.7  20.2  \n",
       "124  4.9   5.6   4.8  1.2  0.5  3.1  1.8  24.4  22.5  \n",
       "312  7.8  10.5   2.9  0.8  1.7  2.3  2.9  16.0  23.9  \n",
       "20   3.9   5.5   8.2  1.4  0.3  3.9  3.5  24.7  24.5  \n",
       "27   6.5   9.2   5.6  1.7  1.3  2.5  2.0  19.8  25.7  \n",
       "319  2.3   2.7   1.0  0.3  0.7  0.0  0.7  16.0  13.4  \n",
       "28   3.2   3.9   2.6  0.5  0.2  1.9  1.4  19.1  15.0  \n",
       "479  3.1   3.4   4.3  0.9  0.3  1.9  2.7  15.6  15.1  \n",
       "11   3.5   4.6   3.6  0.7  0.5  2.0  3.0  15.4  15.9  \n",
       "458  2.8   3.1   2.8  1.0  0.1  1.5  1.1  18.1  16.0  \n",
       "495  3.7   5.6   4.8  1.1  0.3  2.7  2.6  22.2  22.2  \n",
       "286  3.7   4.3   6.7  0.9  0.7  1.4  2.0  27.1  27.0  \n",
       "169  3.4   4.2  12.1  1.0  0.7  2.2  1.1  26.9  33.6  \n",
       "\n",
       "[22 rows x 31 columns]"
      ]
     },
     "execution_count": 12,
     "metadata": {},
     "output_type": "execute_result"
    }
   ],
   "source": [
    "young_age = ages[\"25%\"]\n",
    "futur_super_star_def = f\"(EFF >= 12) & (PTS >= 15) & (Age <= {young_age})\"\n",
    "players.query(futur_super_star_def).sort_values(\"EFF\", ascending=False).sort_values([\"Age\", \"EFF\"], ascending=True)"
   ]
  }
 ],
 "metadata": {
  "kernelspec": {
   "display_name": "venv",
   "language": "python",
   "name": "python3"
  },
  "language_info": {
   "codemirror_mode": {
    "name": "ipython",
    "version": 3
   },
   "file_extension": ".py",
   "mimetype": "text/x-python",
   "name": "python",
   "nbconvert_exporter": "python",
   "pygments_lexer": "ipython3",
   "version": "3.9.4"
  }
 },
 "nbformat": 4,
 "nbformat_minor": 2
}
