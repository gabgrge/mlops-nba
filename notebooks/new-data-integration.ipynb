{
 "cells": [
  {
   "cell_type": "code",
   "execution_count": 1,
   "metadata": {},
   "outputs": [],
   "source": [
    "#Continous integraion of latest data using https://github.com/swar/nba_api/blob/master/docs/examples/Finding%20Games.ipynb"
   ]
  },
  {
   "cell_type": "code",
   "execution_count": 1,
   "metadata": {
    "ExecuteTime": {
     "end_time": "2024-01-24T08:02:20.970814Z",
     "start_time": "2024-01-24T08:02:20.967612Z"
    }
   },
   "outputs": [],
   "source": [
    "import pandas as pd"
   ]
  },
  {
   "cell_type": "code",
   "execution_count": 3,
   "metadata": {
    "ExecuteTime": {
     "end_time": "2024-01-24T08:05:40.282781Z",
     "start_time": "2024-01-24T08:05:40.271059Z"
    }
   },
   "outputs": [],
   "source": [
    "from nba_api.stats.static import teams\n",
    "\n",
    "nba_teams = teams.get_teams()\n",
    "# Select the dictionary for the Celtics, which contains their team ID\n",
    "celtics = [team for team in nba_teams if team['abbreviation'] == 'BOS'][0]\n",
    "celtics_id = celtics['id']"
   ]
  },
  {
   "cell_type": "code",
   "execution_count": 4,
   "metadata": {
    "ExecuteTime": {
     "end_time": "2024-01-24T08:05:53.767560Z",
     "start_time": "2024-01-24T08:05:51.063652Z"
    }
   },
   "outputs": [
    {
     "data": {
      "text/plain": "  SEASON_ID     TEAM_ID TEAM_ABBREVIATION       TEAM_NAME     GAME_ID  \\\n0     22023  1610612738               BOS  Boston Celtics  0022300611   \n1     22023  1610612738               BOS  Boston Celtics  0022300603   \n2     22023  1610612738               BOS  Boston Celtics  0022300586   \n3     22023  1610612738               BOS  Boston Celtics  0022300571   \n4     22023  1610612738               BOS  Boston Celtics  0022300563   \n\n    GAME_DATE      MATCHUP WL  MIN  PTS  ...  FT_PCT  OREB  DREB  REB  AST  \\\n0  2024-01-22    BOS @ DAL  W  240  119  ...   0.733     5    39   44   26   \n1  2024-01-21    BOS @ HOU  W  240  116  ...   0.722    16    39   55   31   \n2  2024-01-19  BOS vs. DEN  L  240  100  ...   0.714    12    26   38   21   \n3  2024-01-17  BOS vs. SAS  W  240  117  ...   0.789    12    42   54   22   \n4  2024-01-15    BOS @ TOR  W  240  105  ...   0.920     5    48   53   20   \n\n   STL  BLK  TOV  PF  PLUS_MINUS  \n0    7    8    6  20         9.0  \n1   10   12   16  17         9.0  \n2    5    2    2  17        -2.0  \n3    5    6   12  15        19.0  \n4    3    7   12  16         9.0  \n\n[5 rows x 28 columns]",
      "text/html": "<div>\n<style scoped>\n    .dataframe tbody tr th:only-of-type {\n        vertical-align: middle;\n    }\n\n    .dataframe tbody tr th {\n        vertical-align: top;\n    }\n\n    .dataframe thead th {\n        text-align: right;\n    }\n</style>\n<table border=\"1\" class=\"dataframe\">\n  <thead>\n    <tr style=\"text-align: right;\">\n      <th></th>\n      <th>SEASON_ID</th>\n      <th>TEAM_ID</th>\n      <th>TEAM_ABBREVIATION</th>\n      <th>TEAM_NAME</th>\n      <th>GAME_ID</th>\n      <th>GAME_DATE</th>\n      <th>MATCHUP</th>\n      <th>WL</th>\n      <th>MIN</th>\n      <th>PTS</th>\n      <th>...</th>\n      <th>FT_PCT</th>\n      <th>OREB</th>\n      <th>DREB</th>\n      <th>REB</th>\n      <th>AST</th>\n      <th>STL</th>\n      <th>BLK</th>\n      <th>TOV</th>\n      <th>PF</th>\n      <th>PLUS_MINUS</th>\n    </tr>\n  </thead>\n  <tbody>\n    <tr>\n      <th>0</th>\n      <td>22023</td>\n      <td>1610612738</td>\n      <td>BOS</td>\n      <td>Boston Celtics</td>\n      <td>0022300611</td>\n      <td>2024-01-22</td>\n      <td>BOS @ DAL</td>\n      <td>W</td>\n      <td>240</td>\n      <td>119</td>\n      <td>...</td>\n      <td>0.733</td>\n      <td>5</td>\n      <td>39</td>\n      <td>44</td>\n      <td>26</td>\n      <td>7</td>\n      <td>8</td>\n      <td>6</td>\n      <td>20</td>\n      <td>9.0</td>\n    </tr>\n    <tr>\n      <th>1</th>\n      <td>22023</td>\n      <td>1610612738</td>\n      <td>BOS</td>\n      <td>Boston Celtics</td>\n      <td>0022300603</td>\n      <td>2024-01-21</td>\n      <td>BOS @ HOU</td>\n      <td>W</td>\n      <td>240</td>\n      <td>116</td>\n      <td>...</td>\n      <td>0.722</td>\n      <td>16</td>\n      <td>39</td>\n      <td>55</td>\n      <td>31</td>\n      <td>10</td>\n      <td>12</td>\n      <td>16</td>\n      <td>17</td>\n      <td>9.0</td>\n    </tr>\n    <tr>\n      <th>2</th>\n      <td>22023</td>\n      <td>1610612738</td>\n      <td>BOS</td>\n      <td>Boston Celtics</td>\n      <td>0022300586</td>\n      <td>2024-01-19</td>\n      <td>BOS vs. DEN</td>\n      <td>L</td>\n      <td>240</td>\n      <td>100</td>\n      <td>...</td>\n      <td>0.714</td>\n      <td>12</td>\n      <td>26</td>\n      <td>38</td>\n      <td>21</td>\n      <td>5</td>\n      <td>2</td>\n      <td>2</td>\n      <td>17</td>\n      <td>-2.0</td>\n    </tr>\n    <tr>\n      <th>3</th>\n      <td>22023</td>\n      <td>1610612738</td>\n      <td>BOS</td>\n      <td>Boston Celtics</td>\n      <td>0022300571</td>\n      <td>2024-01-17</td>\n      <td>BOS vs. SAS</td>\n      <td>W</td>\n      <td>240</td>\n      <td>117</td>\n      <td>...</td>\n      <td>0.789</td>\n      <td>12</td>\n      <td>42</td>\n      <td>54</td>\n      <td>22</td>\n      <td>5</td>\n      <td>6</td>\n      <td>12</td>\n      <td>15</td>\n      <td>19.0</td>\n    </tr>\n    <tr>\n      <th>4</th>\n      <td>22023</td>\n      <td>1610612738</td>\n      <td>BOS</td>\n      <td>Boston Celtics</td>\n      <td>0022300563</td>\n      <td>2024-01-15</td>\n      <td>BOS @ TOR</td>\n      <td>W</td>\n      <td>240</td>\n      <td>105</td>\n      <td>...</td>\n      <td>0.920</td>\n      <td>5</td>\n      <td>48</td>\n      <td>53</td>\n      <td>20</td>\n      <td>3</td>\n      <td>7</td>\n      <td>12</td>\n      <td>16</td>\n      <td>9.0</td>\n    </tr>\n  </tbody>\n</table>\n<p>5 rows × 28 columns</p>\n</div>"
     },
     "execution_count": 4,
     "metadata": {},
     "output_type": "execute_result"
    }
   ],
   "source": [
    "from nba_api.stats.endpoints import leaguegamefinder\n",
    "\n",
    "# Query for games where the Celtics were playing\n",
    "gamefinder = leaguegamefinder.LeagueGameFinder(team_id_nullable=celtics_id)\n",
    "# The first DataFrame of those returned is what we want.\n",
    "games = gamefinder.get_data_frames()[0]\n",
    "games.head()"
   ]
  },
  {
   "cell_type": "code",
   "execution_count": 4,
   "metadata": {},
   "outputs": [
    {
     "data": {
      "text/html": [
       "<div>\n",
       "<style scoped>\n",
       "    .dataframe tbody tr th:only-of-type {\n",
       "        vertical-align: middle;\n",
       "    }\n",
       "\n",
       "    .dataframe tbody tr th {\n",
       "        vertical-align: top;\n",
       "    }\n",
       "\n",
       "    .dataframe thead th {\n",
       "        text-align: right;\n",
       "    }\n",
       "</style>\n",
       "<table border=\"1\" class=\"dataframe\">\n",
       "  <thead>\n",
       "    <tr style=\"text-align: right;\">\n",
       "      <th></th>\n",
       "      <th>GAME_ID</th>\n",
       "    </tr>\n",
       "    <tr>\n",
       "      <th>SEASON_ID</th>\n",
       "      <th></th>\n",
       "    </tr>\n",
       "  </thead>\n",
       "  <tbody>\n",
       "    <tr>\n",
       "      <th>2015</th>\n",
       "      <td>103</td>\n",
       "    </tr>\n",
       "    <tr>\n",
       "      <th>2016</th>\n",
       "      <td>115</td>\n",
       "    </tr>\n",
       "    <tr>\n",
       "      <th>2017</th>\n",
       "      <td>113</td>\n",
       "    </tr>\n",
       "    <tr>\n",
       "      <th>2018</th>\n",
       "      <td>101</td>\n",
       "    </tr>\n",
       "    <tr>\n",
       "      <th>2019</th>\n",
       "      <td>102</td>\n",
       "    </tr>\n",
       "    <tr>\n",
       "      <th>2020</th>\n",
       "      <td>80</td>\n",
       "    </tr>\n",
       "    <tr>\n",
       "      <th>2021</th>\n",
       "      <td>115</td>\n",
       "    </tr>\n",
       "    <tr>\n",
       "      <th>2022</th>\n",
       "      <td>111</td>\n",
       "    </tr>\n",
       "    <tr>\n",
       "      <th>2023</th>\n",
       "      <td>40</td>\n",
       "    </tr>\n",
       "  </tbody>\n",
       "</table>\n",
       "</div>"
      ],
      "text/plain": [
       "           GAME_ID\n",
       "SEASON_ID         \n",
       "2015           103\n",
       "2016           115\n",
       "2017           113\n",
       "2018           101\n",
       "2019           102\n",
       "2020            80\n",
       "2021           115\n",
       "2022           111\n",
       "2023            40"
      ]
     },
     "execution_count": 4,
     "metadata": {},
     "output_type": "execute_result"
    }
   ],
   "source": [
    "games.groupby(games.SEASON_ID.str[-4:])[['GAME_ID']].count().loc['2015':]\n"
   ]
  },
  {
   "cell_type": "code",
   "execution_count": null,
   "metadata": {},
   "outputs": [],
   "source": []
  }
 ],
 "metadata": {
  "kernelspec": {
   "display_name": "venv",
   "language": "python",
   "name": "python3"
  },
  "language_info": {
   "codemirror_mode": {
    "name": "ipython",
    "version": 3
   },
   "file_extension": ".py",
   "mimetype": "text/x-python",
   "name": "python",
   "nbconvert_exporter": "python",
   "pygments_lexer": "ipython3",
   "version": "3.9.4"
  }
 },
 "nbformat": 4,
 "nbformat_minor": 2
}
